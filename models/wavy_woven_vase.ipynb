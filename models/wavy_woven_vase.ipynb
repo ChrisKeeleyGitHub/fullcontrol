{
 "cells": [
  {
   "cell_type": "markdown",
   "id": "9f3cd4f7",
   "metadata": {},
   "source": [
    "# wavy woven vase\n",
    "\n",
    "This notebook generates a 3D visualization of a wavy woven vase with a solid base.\n",
    "\n",
    "*<<< check out other demo models [here](https://github.com/FullControlXYZ/fullcontrol/tree/master/models/README.md) >>>*\n",
    "\n",
    "run all cells in this notebook, or press shift+enter to run each cell sequentially \n",
    "\n",
    "if you change one of the code cells, make sure you run it and all subsequent cells again (in order)\n",
    "\n",
    "*this document is a jupyter notebook - if they're new to you, check out how they work: [link](https://www.google.com/search?q=ipynb+tutorial), [link](https://jupyter.org/try-jupyter/retro/notebooks/?path=notebooks/Intro.ipynb), [link](https://colab.research.google.com/)*"
   ]
  },
  {
   "cell_type": "code",
   "execution_count": null,
   "id": "6e68019d",
   "metadata": {},
   "outputs": [],
   "source": [
    "import numpy as np\n",
    "import plotly.graph_objects as go"
   ]
  },
  {
   "cell_type": "code",
   "metadata": {},
   "execution_count": null,
   "outputs": [],
   "source": [
    "# vase parameters\n",
    "params = dict(height=120, base_height=5, base_radius=25, top_radius=12,\n",
    "              amplitude=4, angular_waves=8, vertical_waves=4,\n",
    "              n_theta=200, n_z=200)\n"
   ]
  },
  {
   "cell_type": "code",
   "execution_count": null,
   "id": "74a16016",
   "metadata": {},
   "outputs": [],
   "source": [
    "def generate_vase_surface(height=120, base_height=5, base_radius=25, top_radius=12,\n",
    "                            amplitude=4, angular_waves=8, vertical_waves=4,\n",
    "                            n_theta=200, n_z=200):\n",
    "    \"\"\"Return X, Y, Z coordinate arrays for a woven vase.\"\"\"\n",
    "    theta = np.linspace(0, 2*np.pi, n_theta)\n",
    "    z = np.linspace(0, height, n_z)\n",
    "    Theta, Z = np.meshgrid(theta, z)\n",
    "    u = np.clip((Z - base_height) / (height - base_height), 0, 1)\n",
    "    base_section = Z < base_height\n",
    "    radius = base_radius + (top_radius - base_radius) * u\n",
    "    wave = amplitude * (1 - u) * np.sin(angular_waves * Theta) * np.sin(vertical_waves * np.pi * u)\n",
    "    R = np.where(base_section, base_radius, radius + wave)\n",
    "    X = R * np.cos(Theta)\n",
    "    Y = R * np.sin(Theta)\n",
    "    return X, Y, Z"
   ]
  },
  {
   "cell_type": "code",
   "execution_count": null,
   "id": "3fcc8cc8",
   "metadata": {},
   "outputs": [],
   "source": [
    "def plot_vase(**kwargs):\n",
    "    X, Y, Z = generate_vase_surface(**kwargs)\n",
    "    fig = go.Figure(data=[go.Surface(x=X, y=Y, z=Z, colorscale='Viridis', showscale=False)])\n",
    "    fig.update_layout(scene_aspectmode='data', title='Wavy Woven Vase', margin=dict(l=0, r=0, b=0, t=40))\n",
    "    fig.show()\n",
    "    return X, Y, Z"
   ]
  },
  {
   "cell_type": "code",
   "execution_count": null,
   "id": "f2d3393f",
   "metadata": {},
   "outputs": [],
   "source": [
    "# visualize with default parameters\n",
    "X, Y, Z = plot_vase(**params)"
   ]
  },
  {
   "cell_type": "code",
   "execution_count": null,
   "id": "093ef938",
   "metadata": {},
   "outputs": [],
   "source": [
    "def save_as_stl(X, Y, Z, path='wavy_woven_vase.stl'):\n",
    "    n_z, n_theta = X.shape\n",
    "    vertices = np.column_stack((X.ravel(), Y.ravel(), Z.ravel()))\n",
    "    faces = []\n",
    "    for i in range(n_z-1):\n",
    "        for j in range(n_theta):\n",
    "            jp = (j+1) % n_theta\n",
    "            a = i*n_theta + j\n",
    "            b = (i+1)*n_theta + j\n",
    "            c = (i+1)*n_theta + jp\n",
    "            d = i*n_theta + jp\n",
    "            faces.append([a, b, c])\n",
    "            faces.append([a, c, d])\n",
    "    center = len(vertices)\n",
    "    vertices = np.vstack([vertices, [0, 0, 0]])\n",
    "    for j in range(n_theta):\n",
    "        jp = (j+1) % n_theta\n",
    "        faces.append([center, jp, j])\n",
    "    with open(path, 'w') as f:\n",
    "        f.write('solid vase\n",
    "')\n",
    "        for tri in faces:\n",
    "            p0, p1, p2 = vertices[tri]\n",
    "            n = np.cross(p1-p0, p2-p0); n /= (np.linalg.norm(n) + 1e-8)\n",
    "            f.write(f' facet normal {n[0]:e} {n[1]:e} {n[2]:e}\n",
    "')\n",
    "            f.write('  outer loop\n",
    "')\n",
    "            for v in (p0, p1, p2):\n",
    "                f.write(f'   vertex {v[0]:e} {v[1]:e} {v[2]:e}\n",
    "')\n",
    "            f.write('  endloop\n",
    " endfacet\n",
    "')\n",
    "        f.write('endsolid vase\n",
    "')"
   ]
  },
  {
   "cell_type": "code",
   "execution_count": null,
   "id": "99fdb6bd",
   "metadata": {},
   "outputs": [],
   "source": [
    "# uncomment to save the mesh as an STL file\n",
    "# save_as_stl(X, Y, Z)"
   ]
  }
 ],
 "metadata": {
  "kernelspec": {
   "display_name": "Python 3",
   "language": "python",
   "name": "python3"
  },
  "language_info": {
   "name": "python",
   "version": "3.10"
  }
 },
 "nbformat": 4,
 "nbformat_minor": 5
}