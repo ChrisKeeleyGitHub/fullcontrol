{
 "cells": [
  {
   "cell_type": "markdown",
   "metadata": {
    "id": "s2klBYSOq9Op"
   },
   "source": [
    "# ripple texture demo\n",
    "\n",
    "*<<< check out other demo models [here](https://github.com/FullControlXYZ/fullcontrol/tree/master/models/README.md) >>>*\n",
    "  \n",
    "press ctrl+F9 to run all cells in this notebook, or press shift+enter to run each cell sequentially\n",
    "\n",
    "if you change one of the code cells, make sure you run it and all subsequent cells again (in order)\n",
    "\n",
    "*this document is a jupyter notebook - if they're new to you, check out how they work: [link](https://www.google.com/search?q=ipynb+tutorial), [link](https://jupyter.org/try-jupyter/retro/notebooks/?path=notebooks/Intro.ipynb), [link](https://colab.research.google.com/)*\n",
    "### be patient :)\n",
    "\n",
    "the next code cell may take a while because running it causes several things to happen:\n",
    "- connect to a google colab server -> download the fullcontrol code -> install the fullcontrol code\n",
    "\n",
    "check out [other tutorials](https://github.com/FullControlXYZ/fullcontrol/blob/master/tutorials/README.md) to understand the python code for the FullControl design"
   ]
  },
  {
   "cell_type": "code",
   "execution_count": 7,
   "metadata": {
    "colab": {
     "base_uri": "https://localhost:8080/"
    },
    "id": "ZoDPXmIgq9Oq",
    "outputId": "7af0ef16-eb4e-468d-d3e4-c9326a7f8a40"
   },
   "outputs": [
    {
     "output_type": "stream",
     "name": "stdout",
     "text": [
      "  Installing build dependencies ... \u001b[?25l\u001b[?25hdone\n",
      "  Getting requirements to build wheel ... \u001b[?25l\u001b[?25hdone\n",
      "  Preparing metadata (pyproject.toml) ... \u001b[?25l\u001b[?25hdone\n"
     ]
    }
   ],
   "source": [
    "if 'google.colab' in str(get_ipython()):\n",
    "  !pip install git+https://github.com/ChrisKeeleyGitHub/fullcontrol --quiet\n",
    "import fullcontrol as fc\n",
    "from google.colab import files\n",
    "from math import cos, tau, sin\n",
    "from copy import deepcopy\n",
    "import lab.fullcontrol as fclab\n"
   ]
  },
  {
   "cell_type": "code",
   "execution_count": 90,
   "metadata": {
    "id": "PEhykZGWq9Or"
   },
   "outputs": [],
   "source": [
    "# printer/gcode parameters\n",
    "\n",
    "design_name = 'ripples'\n",
    "nozzle_temp = 200\n",
    "bed_temp = 0\n",
    "print_speed = 500\n",
    "fan_percent = 100\n",
    "printer_name='prusa_i3' # generic / ultimaker2plus / prusa_i3 / ender_3 / cr_10 / bambulab_x1 / toolchanger_T0"
   ]
  },
  {
   "cell_type": "code",
   "execution_count": 101,
   "metadata": {
    "id": "YLZAbh3Rq9Or"
   },
   "outputs": [],
   "source": [
    "# design parameters\n",
    "\n",
    "inner_rad= 40\n",
    "# Inner Radius (mm) - Radius of the inner circle - 'star tip' and 'bulge' parameters morph the geometry radially outwards from this value\n",
    "# default value: 15 ; guideline range: 10 to 30\n",
    "\n",
    "height = 40\n",
    "# Height (mm) - Height of the part\n",
    "# default value: 40 ; guideline range: 20 to 80\n",
    "\n",
    "skew_percent = 10\n",
    "# Twist (%) - How much does the structure twist over its height? 100% means one full rotation anti-clockwise\n",
    "# default value: 10 ; guideline range: -100 to 100\n",
    "\n",
    "star_tips = 0\n",
    "# Star Tips - The number of outward protrusions from a nominally circular geometry - to make a star-like shape\n",
    "# default value: 4 ; guideline range: 0 to 10\n",
    "\n",
    "tip_length = 10\n",
    "# Star Tip Length (mm) - How much does each 'star tip' protrude beyond the inner radius?\n",
    "# default value: 5 ; guideline range: -20 to 20\n",
    "\n",
    "bulge = 10\n",
    "# Bulge (mm) - The geometry bulges out by this amount half way up the structure\n",
    "# default value: 2 ; guideline range: -20 to 20\n",
    "\n",
    "nozzle_dia = 0.8\n",
    "# Nozzle Diameter (mm) - This is used to set a reasonable value for layer height and extrusion rate\n",
    "# default value: 0.4 ; guideline range: 0.3 to 1.2\n",
    "\n",
    "ripples_per_layer = 20\n",
    "# Ripples Per Layer - Number of in-out waves the nozzle performs for each layer. There is actually an extra half-ripple for each layer so that the ripples are offset for each alternating layer\n",
    "# default value: 50 ; guideline range: 20 to 100\n",
    "\n",
    "rip_depth = 1.6\n",
    "# Ripple Depth (mm) - How far the nozzle moves in and out radially for each 'ripple'\n",
    "# default value: 1 ; guideline range: 0 to 5\n",
    "\n",
    "shape_factor = 1.25\n",
    "# Start Tip Pointiness - This affects how pointy the 'star tips' are and can achieve very interesting geometries\n",
    "# default value: 1.5 ; guideline range: 0.25 to 5\n",
    "\n",
    "vert_rip_amp = 0.8\n",
    "\n",
    "vert_ripples_per_layer = 20\n",
    "# Vertical Ripples Per Layer - Number of vertical waves per layer\n",
    "# default value: 1 ; guideline range: 0 to 10\n",
    "\n",
    "use_sine_squared = True\n",
    "# Use Sine Squared - If True, vertical ripple waves use a sine-squared shape\n",
    "# default value: False\n",
    "# Vertical Ripple Amplitude (mm) - wave height along z for non-planar layers. Peaks align with horizontal ripples\n",
    "\n",
    "RippleSegs = 200 # 2 means the ripple is zig-zag. increase this value to create a smooth wave, but watch out since the generation time will increase\n",
    "first_layer_E_factor = 0.4 # set to be 1 to double extrusion by the end of the layer, 0.4 adds 40%, which seemed good for me\n",
    "centre_x, centre_y = 50, 50"
   ]
  },
  {
   "cell_type": "code",
   "execution_count": 102,
   "metadata": {
    "id": "2q8_ULN3q9Os",
    "colab": {
     "base_uri": "https://localhost:8080/"
    },
    "outputId": "f6603a88-dbb2-475a-b0ec-a80234226925"
   },
   "outputs": [
    {
     "output_type": "stream",
     "name": "stdout",
     "text": [
      "yay! CONVEX function used :) please cite our CONVEX research study: https://www.researchgate.net/publication/346098541\n"
     ]
    }
   ],
   "source": [
    "# generate the design (make sure you've run the above cells before running this cell)\n",
    "\n",
    "EW = nozzle_dia*2.5\n",
    "EH = nozzle_dia*0.6\n",
    "centre = fc.Point(x=50, y=50, z=-1.5)\n",
    "centre_now = deepcopy(centre)\n",
    "layers = int(height/EH)\n",
    "layer_segs = (ripples_per_layer+0.5)*RippleSegs\n",
    "total_segs = layer_segs*layers\n",
    "\n",
    "# offset the whole procedure to a convenient position on the print bed. initial_z dictates the gap between the nozzle and the bed for the first layer, assuming the model was designed with a first layer z-position of 0\n",
    "initial_z = 0.8*EH + vert_rip_amp -3\n",
    "model_offset = fc.Vector(x=centre_x, y=centre_y, z=initial_z)\n",
    "\n",
    "steps = []\n",
    "points = []\n",
    "steps.append(fc.Printer(print_speed=print_speed/2)) # halve print speed for the first layer\n",
    "for t in range(int(layers*layer_segs)):\n",
    "    t_val = t/layer_segs # tval = 0 to layers\n",
    "    a_now = t_val*tau*(1+(skew_percent/100)/layers)\n",
    "    a_now -= tau/4 # make the print start from front middle (near primer line)\n",
    "    # the next equation (r_now) looks more complicated than it is. basically radius is inner_rad + radial fluctuation due to ripples (1st line) + radial fluctuation due to the star shape (2nd line) + radial fluctuation due to the bulge (3rd line)\n",
    "    r_now = inner_rad + rip_depth*(0.5+(0.5*cos((ripples_per_layer+0.5)*(t_val*tau))))**1 + \\\n",
    "        (tip_length*(0.5-0.5*cos(star_tips*(t_val*tau)))**shape_factor) + \\\n",
    "        (bulge*(sin((centre_now.z/height)*(0.5*tau))))\n",
    "    angle = (vert_ripples_per_layer + 0.5) * (t_val * tau)\n",
    "    if use_sine_squared:\n",
    "        vert_wave = cos(angle) ** 2  # sine squared wave\n",
    "    else:\n",
    "        vert_wave = cos(angle)\n",
    "    centre_now.z = t_val * EH + vert_rip_amp * vert_wave\n",
    "    if t_val < 1: # 1st layer\n",
    "        steps.append(fc.ExtrusionGeometry(height=EH+EH*t_val*first_layer_E_factor)) # ramp up extrusion during the first layer since vase mode means the nozzle moves away from the buildplate\n",
    "    if t_val == 1: # other layers\n",
    "        steps.append(fc.ExtrusionGeometry(height=EH)) # reduce to the correct height as soon as the nozzle passes the start point of the previous layer\n",
    "        steps.append(fc.Printer(print_speed = print_speed)) # double print speed after the first layer. this is combined with an instantaneous reduction in extrusion height, meaning volumetric flow rate would remain constant for this transition if first_layer_E_factor=1\n",
    "    points.append(fc.polar_to_point(centre_now, r_now, a_now))\n",
    "steps.extend(fclab.fill_base_full(points, int(layer_segs), 1, EW))\n",
    "steps = fc.move(steps, model_offset)\n",
    "annotation_pts = []\n",
    "annotation_labels = []"
   ]
  },
  {
   "cell_type": "code",
   "execution_count": null,
   "metadata": {
    "id": "loHI9qcnq9Os"
   },
   "outputs": [],
   "source": [
    "# preview the design\n",
    "\n",
    "# fc.transform(steps, 'plot', fc.PlotControls(zoom=0.4, style='line'))\n",
    "# hover the cursor over the lines in the plot to check xyz positions of the points in the design\n",
    "\n",
    "# uncomment the next line to create a plot with real heights/widths for extruded lines to preview the real 3D printed geometry\n",
    "fc.transform(steps, 'plot', fc.PlotControls(zoom=0.4, style='tube', initialization_data={'extrusion_width': EW, 'extrusion_height': EH}))\n",
    "\n",
    "# uncomment the next line to create a neat preview (click the top-left button in the plot for a .png file) - post and tag @FullControlXYZ :)\n",
    "# fc.transform(steps, 'plot', fc.PlotControls(neat_for_publishing=True, zoom=0.4,  initialization_data={'extrusion_width': EW, 'extrusion_height': EH}))\n"
   ]
  },
  {
   "cell_type": "code",
   "execution_count": 104,
   "metadata": {
    "colab": {
     "base_uri": "https://localhost:8080/",
     "height": 17
    },
    "id": "38o4Q9Xzq9Ot",
    "outputId": "489591ea-1bd6-4731-9acc-2dd1794d30e3"
   },
   "outputs": [
    {
     "output_type": "display_data",
     "data": {
      "text/plain": [
       "<IPython.core.display.Javascript object>"
      ],
      "application/javascript": [
       "\n",
       "    async function download(id, filename, size) {\n",
       "      if (!google.colab.kernel.accessAllowed) {\n",
       "        return;\n",
       "      }\n",
       "      const div = document.createElement('div');\n",
       "      const label = document.createElement('label');\n",
       "      label.textContent = `Downloading \"${filename}\": `;\n",
       "      div.appendChild(label);\n",
       "      const progress = document.createElement('progress');\n",
       "      progress.max = size;\n",
       "      div.appendChild(progress);\n",
       "      document.body.appendChild(div);\n",
       "\n",
       "      const buffers = [];\n",
       "      let downloaded = 0;\n",
       "\n",
       "      const channel = await google.colab.kernel.comms.open(id);\n",
       "      // Send a message to notify the kernel that we're ready.\n",
       "      channel.send({})\n",
       "\n",
       "      for await (const message of channel.messages) {\n",
       "        // Send a message to notify the kernel that we're ready.\n",
       "        channel.send({})\n",
       "        if (message.buffers) {\n",
       "          for (const buffer of message.buffers) {\n",
       "            buffers.push(buffer);\n",
       "            downloaded += buffer.byteLength;\n",
       "            progress.value = downloaded;\n",
       "          }\n",
       "        }\n",
       "      }\n",
       "      const blob = new Blob(buffers, {type: 'application/binary'});\n",
       "      const a = document.createElement('a');\n",
       "      a.href = window.URL.createObjectURL(blob);\n",
       "      a.download = filename;\n",
       "      div.appendChild(a);\n",
       "      a.click();\n",
       "      div.remove();\n",
       "    }\n",
       "  "
      ]
     },
     "metadata": {}
    },
    {
     "output_type": "display_data",
     "data": {
      "text/plain": [
       "<IPython.core.display.Javascript object>"
      ],
      "application/javascript": [
       "download(\"download_87e49c5f-9a5d-492c-a5c7-a9499849b4e5\", \"ripples.gcode\", 18830804)"
      ]
     },
     "metadata": {}
    }
   ],
   "source": [
    "# generate and save gcode\n",
    "\n",
    "gcode_controls = fc.GcodeControls(\n",
    "    printer_name=printer_name,\n",
    "\n",
    "    initialization_data={\n",
    "        'primer': 'front_lines_then_y',\n",
    "        'print_speed': print_speed,\n",
    "        'nozzle_temp': nozzle_temp,\n",
    "        'bed_temp': bed_temp,\n",
    "        'fan_percent': fan_percent,\n",
    "        'extrusion_width': EW,\n",
    "        'extrusion_height': EH})\n",
    "gcode = fc.transform(steps, 'gcode', gcode_controls)\n",
    "open(f'{design_name}.gcode', 'w').write(gcode)\n",
    "files.download(f'{design_name}.gcode')"
   ]
  },
  {
   "cell_type": "markdown",
   "metadata": {},
   "source": [
    "# ================================\n",
    "# Wooj-Style Mesh (Dual Helix Lattice)\n",
    "# ================================\n"
   ]
  },
  {
   "cell_type": "code",
   "execution_count": null,
   "metadata": {},
   "outputs": [],
   "source": [
    "# --- NEW: mesh controls (reuse existing globals like EH, EW, print_speed, etc.) ---\n",
    "R_mm = 90.0\n",
    "H_mm = 280.0\n",
    "N_strands = 28\n",
    "pitch_mm = 22.0\n",
    "phase_offset_deg = 6\n",
    "\n",
    "undulate = True\n",
    "und_amp_mm = 0.30\n",
    "und_freq_per_rev = 2.0\n",
    "\n",
    "micro_twist = True\n",
    "twist_radial_amp_mm = 0.12\n",
    "twist_freq_high = 9.0\n",
    "\n",
    "add_rims = True\n",
    "rim_perims = 1\n",
    "\n",
    "min_gap_target_mm = 0.55\n",
    "\n",
    "use_frustum = False\n",
    "Rt_mm = 90.0\n"
   ]
  },
  {
   "cell_type": "code",
   "execution_count": null,
   "metadata": {},
   "outputs": [],
   "source": [
    "# --- NEW: cylindrical mapping using existing math helpers ---\n",
    "import math\n",
    "\n",
    "def cyl_xy(R, theta):\n",
    "    return R*math.cos(theta), R*math.sin(theta)\n",
    "\n",
    "def theta_for_z(z, pitch):\n",
    "    return (2*math.pi) * (z / pitch)\n",
    "\n",
    "def apply_z_undulation(z, theta, enabled, A, f):\n",
    "    if not enabled or A <= 0:\n",
    "        return z\n",
    "    return z + A * math.sin(f * theta)\n",
    "\n",
    "def apply_radial_twist(R, theta, enabled, A, f):\n",
    "    if not enabled or A <= 0:\n",
    "        return R\n",
    "    return R + A * math.sin(f * theta)\n",
    "\n",
    "def radius_at_z(z):\n",
    "    if not use_frustum:\n",
    "        return R_mm\n",
    "    return R_mm + (Rt_mm - R_mm) * (z / H_mm)\n"
   ]
  },
  {
   "cell_type": "code",
   "execution_count": null,
   "metadata": {},
   "outputs": [],
   "source": [
    "# --- NEW: generate continuous helical strands on a cylinder ---\n",
    "def generate_helix_family(R, H, N, pitch, sign=+1, phase_offset_rad=0.0):\n",
    "    strands = []\n",
    "    for i in range(N):\n",
    "        phi0 = phase_offset_rad + (2*math.pi * i / N)\n",
    "        pts = []\n",
    "        z = 0.0\n",
    "        dz = max(EH * 0.75, 0.18)\n",
    "        while z <= H:\n",
    "            theta = sign * theta_for_z(z, pitch) + phi0\n",
    "            R_base = radius_at_z(z)\n",
    "            R_eff = apply_radial_twist(R_base, theta, micro_twist, twist_radial_amp_mm, twist_freq_high)\n",
    "            x, y = cyl_xy(R_eff, theta)\n",
    "            x += centre_x\n",
    "            y += centre_y\n",
    "            z_eff = apply_z_undulation(z, theta, undulate, und_amp_mm, und_freq_per_rev)\n",
    "            pts.append((x, y, z_eff))\n",
    "            z += dz\n",
    "        strands.append(pts)\n",
    "    return strands\n",
    "\n",
    "def generate_dual_helix(R, H, N, pitch, phase_offset_deg):\n",
    "    A = generate_helix_family(R, H, N, pitch, +1, math.radians(+phase_offset_deg/2))\n",
    "    B = generate_helix_family(R, H, N, pitch, -1, math.radians(-phase_offset_deg/2))\n",
    "    return A, B\n"
   ]
  },
  {
   "cell_type": "code",
   "execution_count": null,
   "metadata": {},
   "outputs": [],
   "source": [
    "# --- NEW: spacing check, emitters, and build routine ---\n",
    "def check_spacing():\n",
    "    global N_strands, pitch_mm\n",
    "    Rmid = radius_at_z(H_mm/2)\n",
    "    ang_spacing = 2*math.pi / N_strands\n",
    "    lin_spacing = Rmid * ang_spacing - EW\n",
    "    if lin_spacing < min_gap_target_mm:\n",
    "        pitch_mm *= 1.05\n",
    "        print(f'adjust: increased pitch to {pitch_mm:.2f} mm')\n",
    "        ang_spacing = 2*math.pi / N_strands\n",
    "        lin_spacing = Rmid * ang_spacing - EW\n",
    "        if lin_spacing < min_gap_target_mm and N_strands > 2:\n",
    "            N_strands -= 2\n",
    "            ang_spacing = 2*math.pi / N_strands\n",
    "            lin_spacing = Rmid * ang_spacing - EW\n",
    "            print(f'adjust: reduced strands to {N_strands}')\n",
    "    print(f'strand spacing @ mid-height: {math.degrees(ang_spacing):.2f} deg, {lin_spacing:.2f} mm')\n",
    "    crossings_per_100 = (100 / pitch_mm) * N_strands\n",
    "    print(f'crossings per 100 mm height: {crossings_per_100:.1f}')\n",
    "    print(f'minimum gap: {lin_spacing:.2f} mm')\n",
    "    return ang_spacing, lin_spacing\n",
    "\n",
    "def emit_polyline(strand, steps):\n",
    "    steps.append(fc.Extruder(on=False))\n",
    "    steps.append(fc.Point(x=strand[0][0], y=strand[0][1], z=strand[0][2]))\n",
    "    steps.append(fc.Extruder(on=True))\n",
    "    for x, y, z in strand[1:]:\n",
    "        steps.append(fc.Point(x=x, y=y, z=z))\n",
    "    steps.append(fc.Extruder(on=False))\n",
    "\n",
    "def emit_rim_perimeters(R, z=0.0, count=1, steps=None):\n",
    "    if steps is None:\n",
    "        steps = []\n",
    "    segs = max(60, int(2*math.pi*R/1.5))\n",
    "    for c in range(count):\n",
    "        pts = []\n",
    "        for i in range(segs+1):\n",
    "            theta = 2*math.pi * i / segs\n",
    "            x, y = cyl_xy(R + c*EW, theta)\n",
    "            pts.append((x + centre_x, y + centre_y, z))\n",
    "        emit_polyline(pts, steps)\n",
    "    return steps\n",
    "\n",
    "def build_wooj_mesh():\n",
    "    check_spacing()\n",
    "    A, B = generate_dual_helix(R_mm, H_mm, N_strands, pitch_mm, phase_offset_deg)\n",
    "    midA = A[0][len(A[0])//2-5:len(A[0])//2+5]\n",
    "    midB = B[0][len(B[0])//2-5:len(B[0])//2+5]\n",
    "    print('sample pts A:', midA)\n",
    "    print('sample pts B:', midB)\n",
    "    steps = []\n",
    "    steps.append(fc.Printer(print_speed=print_speed))\n",
    "    if add_rims:\n",
    "        emit_rim_perimeters(R_mm, z=0.0, count=rim_perims, steps=steps)\n",
    "        emit_rim_perimeters(radius_at_z(H_mm), z=H_mm, count=rim_perims, steps=steps)\n",
    "    for strand in A:\n",
    "        emit_polyline(strand, steps)\n",
    "    for strand in B:\n",
    "        emit_polyline(strand, steps)\n",
    "    gcode_controls = fc.GcodeControls(\n",
    "        printer_name=printer_name,\n",
    "        initialization_data={\n",
    "            'primer': 'front_lines_then_y',\n",
    "            'print_speed': print_speed,\n",
    "            'nozzle_temp': nozzle_temp,\n",
    "            'bed_temp': bed_temp,\n",
    "            'fan_percent': fan_percent,\n",
    "            'extrusion_width': EW,\n",
    "            'extrusion_height': EH\n",
    "        })\n",
    "    gcode = fc.transform(steps, 'gcode', gcode_controls)\n",
    "    open('mesh_lampshade.gcode', 'w').write(gcode)\n",
    "    files.download('mesh_lampshade.gcode')\n"
   ]
  },
  {
   "cell_type": "code",
   "execution_count": null,
   "metadata": {},
   "outputs": [],
   "source": [
    "# --- NEW: run the build ---\n",
    "build_wooj_mesh()\n"
   ]
  },
  {
   "cell_type": "markdown",
   "metadata": {
    "id": "fubqFnsgq9Ot"
   },
   "source": [
    "#### please tell us what you're doing with FullControl!\n",
    "\n",
    "- tag FullControlXYZ on social media ([twitter](https://twitter.com/FullControlXYZ), [instagram](https://www.instagram.com/fullcontrolxyz/), [linkedin](https://www.linkedin.com/in/andrew-gleadall-068587119/), [tiktok](https://www.tiktok.com/@fullcontrolxyz))\n",
    "- email [info@fullcontrol.xyz](mailto:info@fullcontrol.xyz)\n",
    "- post on the [subreddit](https://reddit.com/r/fullcontrol)\n",
    "- post in the [github discussions or issues tabs](https://github.com/FullControlXYZ/fullcontrol/issues)\n",
    "\n",
    "in publications, please cite the original FullControl paper and the github repo for the new python version:\n",
    "\n",
    "- Gleadall, A. (2021). FullControl GCode Designer: open-source software for unconstrained design in additive manufacturing. Additive Manufacturing, 46, 102109.\n",
    "- Gleadall, A. and Leas, D. (2023). FullControl [electronic resource: python source code]. available at: https://github.com/FullControlXYZ/fullcontrol"
   ]
  }
 ],
 "metadata": {
  "kernelspec": {
   "display_name": "Python 3 (ipykernel)",
   "language": "python",
   "name": "python3"
  },
  "language_info": {
   "codemirror_mode": {
    "name": "ipython",
    "version": 3
   },
   "file_extension": ".py",
   "mimetype": "text/x-python",
   "name": "python",
   "nbconvert_exporter": "python",
   "pygments_lexer": "ipython3",
   "version": "3.11.3"
  },
  "vscode": {
   "interpreter": {
    "hash": "2b13a99eb0d91dd901c683fa32c6210ac0c6779bab056ce7c570b3b366dfe237"
   }
  },
  "colab": {
   "provenance": []
  }
 },
 "nbformat": 4,
 "nbformat_minor": 0
}